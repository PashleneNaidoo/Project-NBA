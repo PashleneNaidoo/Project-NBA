{
 "cells": [
  {
   "cell_type": "code",
   "execution_count": 1,
   "metadata": {
    "colab": {
     "base_uri": "https://localhost:8080/",
     "height": 206
    },
    "id": "rypuL3A_4Gg5",
    "outputId": "70e8efea-2381-475b-b026-3002cd086f5f"
   },
   "outputs": [
    {
     "ename": "FileNotFoundError",
     "evalue": "[Errno 2] No such file or directory: '/content/Modified_coaches_season.csv'",
     "output_type": "error",
     "traceback": [
      "\u001b[0;31m---------------------------------------------------------------------------\u001b[0m",
      "\u001b[0;31mFileNotFoundError\u001b[0m                         Traceback (most recent call last)",
      "\u001b[0;32m/var/folders/14/9y4tlbpx14zdmqbmh8__bwhm0000gn/T/ipykernel_9476/2867101270.py\u001b[0m in \u001b[0;36m<module>\u001b[0;34m\u001b[0m\n\u001b[1;32m      6\u001b[0m \u001b[0mpath_team_season\u001b[0m \u001b[0;34m=\u001b[0m \u001b[0;34m'/content/Modified_team_season.csv'\u001b[0m\u001b[0;34m\u001b[0m\u001b[0;34m\u001b[0m\u001b[0m\n\u001b[1;32m      7\u001b[0m \u001b[0;34m\u001b[0m\u001b[0m\n\u001b[0;32m----> 8\u001b[0;31m \u001b[0mcoaches_season_df\u001b[0m \u001b[0;34m=\u001b[0m \u001b[0mpd\u001b[0m\u001b[0;34m.\u001b[0m\u001b[0mread_csv\u001b[0m\u001b[0;34m(\u001b[0m\u001b[0mpath_coaches_season\u001b[0m\u001b[0;34m)\u001b[0m\u001b[0;34m\u001b[0m\u001b[0;34m\u001b[0m\u001b[0m\n\u001b[0m\u001b[1;32m      9\u001b[0m \u001b[0mcoaches_career_df\u001b[0m \u001b[0;34m=\u001b[0m \u001b[0mpd\u001b[0m\u001b[0;34m.\u001b[0m\u001b[0mread_csv\u001b[0m\u001b[0;34m(\u001b[0m\u001b[0mpath_coaches_career\u001b[0m\u001b[0;34m)\u001b[0m\u001b[0;34m\u001b[0m\u001b[0;34m\u001b[0m\u001b[0m\n\u001b[1;32m     10\u001b[0m \u001b[0mteams_df\u001b[0m \u001b[0;34m=\u001b[0m \u001b[0mpd\u001b[0m\u001b[0;34m.\u001b[0m\u001b[0mread_csv\u001b[0m\u001b[0;34m(\u001b[0m\u001b[0mpath_teams\u001b[0m\u001b[0;34m)\u001b[0m\u001b[0;34m\u001b[0m\u001b[0;34m\u001b[0m\u001b[0m\n",
      "\u001b[0;32m/opt/anaconda3/lib/python3.9/site-packages/pandas/util/_decorators.py\u001b[0m in \u001b[0;36mwrapper\u001b[0;34m(*args, **kwargs)\u001b[0m\n\u001b[1;32m    309\u001b[0m                     \u001b[0mstacklevel\u001b[0m\u001b[0;34m=\u001b[0m\u001b[0mstacklevel\u001b[0m\u001b[0;34m,\u001b[0m\u001b[0;34m\u001b[0m\u001b[0;34m\u001b[0m\u001b[0m\n\u001b[1;32m    310\u001b[0m                 )\n\u001b[0;32m--> 311\u001b[0;31m             \u001b[0;32mreturn\u001b[0m \u001b[0mfunc\u001b[0m\u001b[0;34m(\u001b[0m\u001b[0;34m*\u001b[0m\u001b[0margs\u001b[0m\u001b[0;34m,\u001b[0m \u001b[0;34m**\u001b[0m\u001b[0mkwargs\u001b[0m\u001b[0;34m)\u001b[0m\u001b[0;34m\u001b[0m\u001b[0;34m\u001b[0m\u001b[0m\n\u001b[0m\u001b[1;32m    312\u001b[0m \u001b[0;34m\u001b[0m\u001b[0m\n\u001b[1;32m    313\u001b[0m         \u001b[0;32mreturn\u001b[0m \u001b[0mwrapper\u001b[0m\u001b[0;34m\u001b[0m\u001b[0;34m\u001b[0m\u001b[0m\n",
      "\u001b[0;32m/opt/anaconda3/lib/python3.9/site-packages/pandas/io/parsers/readers.py\u001b[0m in \u001b[0;36mread_csv\u001b[0;34m(filepath_or_buffer, sep, delimiter, header, names, index_col, usecols, squeeze, prefix, mangle_dupe_cols, dtype, engine, converters, true_values, false_values, skipinitialspace, skiprows, skipfooter, nrows, na_values, keep_default_na, na_filter, verbose, skip_blank_lines, parse_dates, infer_datetime_format, keep_date_col, date_parser, dayfirst, cache_dates, iterator, chunksize, compression, thousands, decimal, lineterminator, quotechar, quoting, doublequote, escapechar, comment, encoding, encoding_errors, dialect, error_bad_lines, warn_bad_lines, on_bad_lines, delim_whitespace, low_memory, memory_map, float_precision, storage_options)\u001b[0m\n\u001b[1;32m    584\u001b[0m     \u001b[0mkwds\u001b[0m\u001b[0;34m.\u001b[0m\u001b[0mupdate\u001b[0m\u001b[0;34m(\u001b[0m\u001b[0mkwds_defaults\u001b[0m\u001b[0;34m)\u001b[0m\u001b[0;34m\u001b[0m\u001b[0;34m\u001b[0m\u001b[0m\n\u001b[1;32m    585\u001b[0m \u001b[0;34m\u001b[0m\u001b[0m\n\u001b[0;32m--> 586\u001b[0;31m     \u001b[0;32mreturn\u001b[0m \u001b[0m_read\u001b[0m\u001b[0;34m(\u001b[0m\u001b[0mfilepath_or_buffer\u001b[0m\u001b[0;34m,\u001b[0m \u001b[0mkwds\u001b[0m\u001b[0;34m)\u001b[0m\u001b[0;34m\u001b[0m\u001b[0;34m\u001b[0m\u001b[0m\n\u001b[0m\u001b[1;32m    587\u001b[0m \u001b[0;34m\u001b[0m\u001b[0m\n\u001b[1;32m    588\u001b[0m \u001b[0;34m\u001b[0m\u001b[0m\n",
      "\u001b[0;32m/opt/anaconda3/lib/python3.9/site-packages/pandas/io/parsers/readers.py\u001b[0m in \u001b[0;36m_read\u001b[0;34m(filepath_or_buffer, kwds)\u001b[0m\n\u001b[1;32m    480\u001b[0m \u001b[0;34m\u001b[0m\u001b[0m\n\u001b[1;32m    481\u001b[0m     \u001b[0;31m# Create the parser.\u001b[0m\u001b[0;34m\u001b[0m\u001b[0;34m\u001b[0m\u001b[0m\n\u001b[0;32m--> 482\u001b[0;31m     \u001b[0mparser\u001b[0m \u001b[0;34m=\u001b[0m \u001b[0mTextFileReader\u001b[0m\u001b[0;34m(\u001b[0m\u001b[0mfilepath_or_buffer\u001b[0m\u001b[0;34m,\u001b[0m \u001b[0;34m**\u001b[0m\u001b[0mkwds\u001b[0m\u001b[0;34m)\u001b[0m\u001b[0;34m\u001b[0m\u001b[0;34m\u001b[0m\u001b[0m\n\u001b[0m\u001b[1;32m    483\u001b[0m \u001b[0;34m\u001b[0m\u001b[0m\n\u001b[1;32m    484\u001b[0m     \u001b[0;32mif\u001b[0m \u001b[0mchunksize\u001b[0m \u001b[0;32mor\u001b[0m \u001b[0miterator\u001b[0m\u001b[0;34m:\u001b[0m\u001b[0;34m\u001b[0m\u001b[0;34m\u001b[0m\u001b[0m\n",
      "\u001b[0;32m/opt/anaconda3/lib/python3.9/site-packages/pandas/io/parsers/readers.py\u001b[0m in \u001b[0;36m__init__\u001b[0;34m(self, f, engine, **kwds)\u001b[0m\n\u001b[1;32m    809\u001b[0m             \u001b[0mself\u001b[0m\u001b[0;34m.\u001b[0m\u001b[0moptions\u001b[0m\u001b[0;34m[\u001b[0m\u001b[0;34m\"has_index_names\"\u001b[0m\u001b[0;34m]\u001b[0m \u001b[0;34m=\u001b[0m \u001b[0mkwds\u001b[0m\u001b[0;34m[\u001b[0m\u001b[0;34m\"has_index_names\"\u001b[0m\u001b[0;34m]\u001b[0m\u001b[0;34m\u001b[0m\u001b[0;34m\u001b[0m\u001b[0m\n\u001b[1;32m    810\u001b[0m \u001b[0;34m\u001b[0m\u001b[0m\n\u001b[0;32m--> 811\u001b[0;31m         \u001b[0mself\u001b[0m\u001b[0;34m.\u001b[0m\u001b[0m_engine\u001b[0m \u001b[0;34m=\u001b[0m \u001b[0mself\u001b[0m\u001b[0;34m.\u001b[0m\u001b[0m_make_engine\u001b[0m\u001b[0;34m(\u001b[0m\u001b[0mself\u001b[0m\u001b[0;34m.\u001b[0m\u001b[0mengine\u001b[0m\u001b[0;34m)\u001b[0m\u001b[0;34m\u001b[0m\u001b[0;34m\u001b[0m\u001b[0m\n\u001b[0m\u001b[1;32m    812\u001b[0m \u001b[0;34m\u001b[0m\u001b[0m\n\u001b[1;32m    813\u001b[0m     \u001b[0;32mdef\u001b[0m \u001b[0mclose\u001b[0m\u001b[0;34m(\u001b[0m\u001b[0mself\u001b[0m\u001b[0;34m)\u001b[0m\u001b[0;34m:\u001b[0m\u001b[0;34m\u001b[0m\u001b[0;34m\u001b[0m\u001b[0m\n",
      "\u001b[0;32m/opt/anaconda3/lib/python3.9/site-packages/pandas/io/parsers/readers.py\u001b[0m in \u001b[0;36m_make_engine\u001b[0;34m(self, engine)\u001b[0m\n\u001b[1;32m   1038\u001b[0m             )\n\u001b[1;32m   1039\u001b[0m         \u001b[0;31m# error: Too many arguments for \"ParserBase\"\u001b[0m\u001b[0;34m\u001b[0m\u001b[0;34m\u001b[0m\u001b[0m\n\u001b[0;32m-> 1040\u001b[0;31m         \u001b[0;32mreturn\u001b[0m \u001b[0mmapping\u001b[0m\u001b[0;34m[\u001b[0m\u001b[0mengine\u001b[0m\u001b[0;34m]\u001b[0m\u001b[0;34m(\u001b[0m\u001b[0mself\u001b[0m\u001b[0;34m.\u001b[0m\u001b[0mf\u001b[0m\u001b[0;34m,\u001b[0m \u001b[0;34m**\u001b[0m\u001b[0mself\u001b[0m\u001b[0;34m.\u001b[0m\u001b[0moptions\u001b[0m\u001b[0;34m)\u001b[0m  \u001b[0;31m# type: ignore[call-arg]\u001b[0m\u001b[0;34m\u001b[0m\u001b[0;34m\u001b[0m\u001b[0m\n\u001b[0m\u001b[1;32m   1041\u001b[0m \u001b[0;34m\u001b[0m\u001b[0m\n\u001b[1;32m   1042\u001b[0m     \u001b[0;32mdef\u001b[0m \u001b[0m_failover_to_python\u001b[0m\u001b[0;34m(\u001b[0m\u001b[0mself\u001b[0m\u001b[0;34m)\u001b[0m\u001b[0;34m:\u001b[0m\u001b[0;34m\u001b[0m\u001b[0;34m\u001b[0m\u001b[0m\n",
      "\u001b[0;32m/opt/anaconda3/lib/python3.9/site-packages/pandas/io/parsers/c_parser_wrapper.py\u001b[0m in \u001b[0;36m__init__\u001b[0;34m(self, src, **kwds)\u001b[0m\n\u001b[1;32m     49\u001b[0m \u001b[0;34m\u001b[0m\u001b[0m\n\u001b[1;32m     50\u001b[0m         \u001b[0;31m# open handles\u001b[0m\u001b[0;34m\u001b[0m\u001b[0;34m\u001b[0m\u001b[0m\n\u001b[0;32m---> 51\u001b[0;31m         \u001b[0mself\u001b[0m\u001b[0;34m.\u001b[0m\u001b[0m_open_handles\u001b[0m\u001b[0;34m(\u001b[0m\u001b[0msrc\u001b[0m\u001b[0;34m,\u001b[0m \u001b[0mkwds\u001b[0m\u001b[0;34m)\u001b[0m\u001b[0;34m\u001b[0m\u001b[0;34m\u001b[0m\u001b[0m\n\u001b[0m\u001b[1;32m     52\u001b[0m         \u001b[0;32massert\u001b[0m \u001b[0mself\u001b[0m\u001b[0;34m.\u001b[0m\u001b[0mhandles\u001b[0m \u001b[0;32mis\u001b[0m \u001b[0;32mnot\u001b[0m \u001b[0;32mNone\u001b[0m\u001b[0;34m\u001b[0m\u001b[0;34m\u001b[0m\u001b[0m\n\u001b[1;32m     53\u001b[0m \u001b[0;34m\u001b[0m\u001b[0m\n",
      "\u001b[0;32m/opt/anaconda3/lib/python3.9/site-packages/pandas/io/parsers/base_parser.py\u001b[0m in \u001b[0;36m_open_handles\u001b[0;34m(self, src, kwds)\u001b[0m\n\u001b[1;32m    220\u001b[0m         \u001b[0mLet\u001b[0m \u001b[0mthe\u001b[0m \u001b[0mreaders\u001b[0m \u001b[0mopen\u001b[0m \u001b[0mIOHandles\u001b[0m \u001b[0mafter\u001b[0m \u001b[0mthey\u001b[0m \u001b[0mare\u001b[0m \u001b[0mdone\u001b[0m \u001b[0;32mwith\u001b[0m \u001b[0mtheir\u001b[0m \u001b[0mpotential\u001b[0m \u001b[0mraises\u001b[0m\u001b[0;34m.\u001b[0m\u001b[0;34m\u001b[0m\u001b[0;34m\u001b[0m\u001b[0m\n\u001b[1;32m    221\u001b[0m         \"\"\"\n\u001b[0;32m--> 222\u001b[0;31m         self.handles = get_handle(\n\u001b[0m\u001b[1;32m    223\u001b[0m             \u001b[0msrc\u001b[0m\u001b[0;34m,\u001b[0m\u001b[0;34m\u001b[0m\u001b[0;34m\u001b[0m\u001b[0m\n\u001b[1;32m    224\u001b[0m             \u001b[0;34m\"r\"\u001b[0m\u001b[0;34m,\u001b[0m\u001b[0;34m\u001b[0m\u001b[0;34m\u001b[0m\u001b[0m\n",
      "\u001b[0;32m/opt/anaconda3/lib/python3.9/site-packages/pandas/io/common.py\u001b[0m in \u001b[0;36mget_handle\u001b[0;34m(path_or_buf, mode, encoding, compression, memory_map, is_text, errors, storage_options)\u001b[0m\n\u001b[1;32m    700\u001b[0m         \u001b[0;32mif\u001b[0m \u001b[0mioargs\u001b[0m\u001b[0;34m.\u001b[0m\u001b[0mencoding\u001b[0m \u001b[0;32mand\u001b[0m \u001b[0;34m\"b\"\u001b[0m \u001b[0;32mnot\u001b[0m \u001b[0;32min\u001b[0m \u001b[0mioargs\u001b[0m\u001b[0;34m.\u001b[0m\u001b[0mmode\u001b[0m\u001b[0;34m:\u001b[0m\u001b[0;34m\u001b[0m\u001b[0;34m\u001b[0m\u001b[0m\n\u001b[1;32m    701\u001b[0m             \u001b[0;31m# Encoding\u001b[0m\u001b[0;34m\u001b[0m\u001b[0;34m\u001b[0m\u001b[0m\n\u001b[0;32m--> 702\u001b[0;31m             handle = open(\n\u001b[0m\u001b[1;32m    703\u001b[0m                 \u001b[0mhandle\u001b[0m\u001b[0;34m,\u001b[0m\u001b[0;34m\u001b[0m\u001b[0;34m\u001b[0m\u001b[0m\n\u001b[1;32m    704\u001b[0m                 \u001b[0mioargs\u001b[0m\u001b[0;34m.\u001b[0m\u001b[0mmode\u001b[0m\u001b[0;34m,\u001b[0m\u001b[0;34m\u001b[0m\u001b[0;34m\u001b[0m\u001b[0m\n",
      "\u001b[0;31mFileNotFoundError\u001b[0m: [Errno 2] No such file or directory: '/content/Modified_coaches_season.csv'"
     ]
    }
   ],
   "source": [
    "import pandas as pd\n",
    "\n",
    "path_coaches_season = '/content/Modified_coaches_season.csv'\n",
    "path_coaches_career = '/content/Modified_coaches_career.csv'\n",
    "path_teams = '/content/Modified_teams.csv'\n",
    "path_team_season = '/content/Modified_team_season.csv'\n",
    "\n",
    "coaches_season_df = pd.read_csv(path_coaches_season)\n",
    "coaches_career_df = pd.read_csv(path_coaches_career)\n",
    "teams_df = pd.read_csv(path_teams)\n",
    "team_season_df = pd.read_csv(path_team_season)\n",
    "\n",
    "coaches_season_df.head()"
   ]
  },
  {
   "cell_type": "code",
   "execution_count": null,
   "metadata": {
    "colab": {
     "base_uri": "https://localhost:8080/",
     "height": 206
    },
    "id": "PeumToGE4sEp",
    "outputId": "158052c3-f519-48f8-a278-211cd510dc46"
   },
   "outputs": [],
   "source": [
    "coaches_career_df.head()"
   ]
  },
  {
   "cell_type": "code",
   "execution_count": null,
   "metadata": {
    "colab": {
     "base_uri": "https://localhost:8080/",
     "height": 206
    },
    "id": "xEudpRPt4wjH",
    "outputId": "6ab5323e-13e4-480a-bb8e-b282b92bf363"
   },
   "outputs": [],
   "source": [
    "teams_df.head()"
   ]
  },
  {
   "cell_type": "code",
   "execution_count": null,
   "metadata": {
    "colab": {
     "base_uri": "https://localhost:8080/",
     "height": 236
    },
    "id": "vMfpJQ1V40fT",
    "outputId": "10967fcc-8232-42fe-bf0f-c35cfc794d7f"
   },
   "outputs": [],
   "source": [
    "team_season_df.head()"
   ]
  },
  {
   "cell_type": "code",
   "execution_count": null,
   "metadata": {
    "colab": {
     "base_uri": "https://localhost:8080/",
     "height": 256
    },
    "id": "rIL5M9nU44U0",
    "outputId": "a999bd55-5e6b-438e-8299-c453794c2478"
   },
   "outputs": [],
   "source": [
    "# Calculate per-game stats for teams from the team_season_df\n",
    "\n",
    "# We're interested in the offensive and defensive stats, so we'll exclude identifiers and summary stats like 'won' and 'lost'.\n",
    "stats_columns = [col for col in team_season_df.columns if col.startswith(('o_', 'd_')) and not col.endswith(('3pm', '3pa'))]  # Exclude 3-point stats as they might not be available for all historical seasons.\n",
    "\n",
    "# Add games played column\n",
    "team_season_df['games_played'] = team_season_df['won'] + team_season_df['lost']\n",
    "\n",
    "# Calculate per-game stats\n",
    "for col in stats_columns:\n",
    "    team_season_df[col + '_per_game'] = team_season_df[col] / team_season_df['games_played']\n",
    "\n",
    "# Select the relevant columns for the model, which includes the per-game stats and excludes the total stats.\n",
    "per_game_stats_columns = [col for col in team_season_df.columns if 'per_game' in col]\n",
    "team_per_game_stats_df = team_season_df[['team', 'year'] + per_game_stats_columns]\n",
    "\n",
    "# Display the first few rows of the per-game stats dataframe\n",
    "team_per_game_stats_df.head()\n"
   ]
  },
  {
   "cell_type": "code",
   "execution_count": null,
   "metadata": {
    "colab": {
     "base_uri": "https://localhost:8080/",
     "height": 256
    },
    "id": "BmgnRS1M5AXO",
    "outputId": "747abce7-4f8e-459d-fb98-5c7fbe33ff11"
   },
   "outputs": [],
   "source": [
    "# Calculate win percentage for coaches from the coaches_season_df\n",
    "\n",
    "# Adding win percentage column for coaches\n",
    "coaches_season_df['win_percentage'] = coaches_season_df['season_win'] / (coaches_season_df['season_win'] + coaches_season_df['season_loss'])\n",
    "\n",
    "# We only need the coach's ID, team, year, and win percentage for joining with the team stats\n",
    "coaches_win_percentage_df = coaches_season_df[['coachid', 'team', 'year', 'win_percentage']]\n",
    "\n",
    "# Merging the coaches' win percentage with the teams' per-game stats\n",
    "# We'll assume that the most recent coach's stats for a team in a season is the most relevant\n",
    "team_stats_with_coach_df = pd.merge(team_per_game_stats_df, coaches_win_percentage_df, on=['team', 'year'], how='left')\n",
    "\n",
    "# Since there may be multiple coaches in a season, we'll drop duplicates keeping the last entry\n",
    "team_stats_with_coach_df = team_stats_with_coach_df.drop_duplicates(subset=['team', 'year'], keep='last')\n",
    "\n",
    "# Display the first few rows of the merged dataframe\n",
    "team_stats_with_coach_df.head()\n"
   ]
  },
  {
   "cell_type": "code",
   "execution_count": null,
   "metadata": {
    "colab": {
     "base_uri": "https://localhost:8080/",
     "height": 256
    },
    "id": "EpTAeEnE5G--",
    "outputId": "1c1319fb-525b-4384-8e3d-3f7462222cc6"
   },
   "outputs": [],
   "source": [
    "# Correct the function to exclude non-numeric columns before performing subtraction\n",
    "\n",
    "def create_matchup_features(team_stats_df, team1, team2, year):\n",
    "    # Get the stats for both teams\n",
    "    team1_stats = team_stats_df[(team_stats_df['team'] == team1) & (team_stats_df['year'] == year)]\n",
    "    team2_stats = team_stats_df[(team_stats_df['team'] == team2) & (team_stats_df['year'] == year)]\n",
    "\n",
    "    # If we don't have data for both teams for that year, return None\n",
    "    if team1_stats.empty or team2_stats.empty:\n",
    "        return None\n",
    "\n",
    "    # Exclude non-numeric columns before subtraction\n",
    "    numeric_columns = team_stats_df.select_dtypes(include=['float64', 'int']).columns\n",
    "    team1_numeric_stats = team1_stats[numeric_columns].iloc[0]\n",
    "    team2_numeric_stats = team2_stats[numeric_columns].iloc[0]\n",
    "\n",
    "    # Calculate the difference in stats - this will be our feature set\n",
    "    matchup_features = team1_numeric_stats - team2_numeric_stats\n",
    "\n",
    "    # Add a target variable: 1 if team1 has a higher win percentage, 0 otherwise\n",
    "    matchup_features['target'] = int(team1_stats['win_percentage'].values[0] > team2_stats['win_percentage'].values[0])\n",
    "\n",
    "    # Return the matchup features with team identifiers and year for reference\n",
    "    matchup_features = matchup_features.to_frame().transpose()  # Convert to dataframe for merging\n",
    "    matchup_features['team1'] = team1\n",
    "    matchup_features['team2'] = team2\n",
    "    matchup_features['year'] = year\n",
    "\n",
    "    return matchup_features\n",
    "\n",
    "# We'll create a dataframe to hold all the matchup features\n",
    "matchup_features_df = pd.DataFrame()\n",
    "\n",
    "# This is a computationally intensive process, so for demonstration, we'll just create matchups for one year\n",
    "# In practice, you'd want to do this for all combinations of teams and years\n",
    "year = 2003\n",
    "teams = team_stats_with_coach_df[team_stats_with_coach_df['year'] == year]['team'].unique()\n",
    "for i, team1 in enumerate(teams):\n",
    "    for team2 in teams[i+1:]:  # Create matchups only once for each pair\n",
    "        matchup_features = create_matchup_features(team_stats_with_coach_df, team1, team2, year)\n",
    "        if matchup_features is not None:\n",
    "            matchup_features_df = pd.concat([matchup_features_df, matchup_features], ignore_index=True)\n",
    "\n",
    "matchup_features_df.head()\n"
   ]
  },
  {
   "cell_type": "code",
   "execution_count": null,
   "metadata": {
    "colab": {
     "base_uri": "https://localhost:8080/"
    },
    "id": "HcE0iPhr5NnS",
    "outputId": "150c663b-d5a2-4c1f-ae02-2529e2b991c2"
   },
   "outputs": [],
   "source": [
    "# To create matchup features for all years, we'll iterate over each unique year and create matchups for all teams\n",
    "# We'll store all the matchup features in a list and then concatenate them into a single dataframe\n",
    "\n",
    "# Get unique years from the dataset\n",
    "years = team_stats_with_coach_df['year'].unique()\n",
    "\n",
    "# Initialize an empty list to store the matchup feature dataframes\n",
    "all_matchup_features = []\n",
    "\n",
    "# Iterate over each year and create matchups for all teams\n",
    "for year in years:\n",
    "    teams = team_stats_with_coach_df[team_stats_with_coach_df['year'] == year]['team'].unique()\n",
    "    for i, team1 in enumerate(teams):\n",
    "        for team2 in teams[i+1:]:  # Create matchups only once for each pair\n",
    "            matchup_features = create_matchup_features(team_stats_with_coach_df, team1, team2, year)\n",
    "            if matchup_features is not None:\n",
    "                all_matchup_features.append(matchup_features)\n",
    "\n",
    "# Concatenate all the matchup features dataframes into a single dataframe\n",
    "all_matchup_features_df = pd.concat(all_matchup_features, ignore_index=True)\n",
    "\n",
    "# Display the shape of the resulting dataframe and the first few rows\n",
    "all_matchup_features_df.shape\n"
   ]
  },
  {
   "cell_type": "code",
   "execution_count": null,
   "metadata": {
    "colab": {
     "base_uri": "https://localhost:8080/",
     "height": 444
    },
    "id": "7L9qmY5R5R6p",
    "outputId": "de0c3fae-7666-4707-dd18-c82da49f54a9"
   },
   "outputs": [],
   "source": [
    "all_matchup_features_df"
   ]
  },
  {
   "cell_type": "code",
   "execution_count": null,
   "metadata": {
    "id": "PGnrIP5I5WZX"
   },
   "outputs": [],
   "source": [
    "from sklearn.linear_model import LogisticRegression\n",
    "from sklearn.model_selection import train_test_split\n",
    "from sklearn.metrics import accuracy_score, classification_report\n",
    "\n",
    "# Check for NaN values in the dataset\n",
    "nan_columns = all_matchup_features_df.columns[all_matchup_features_df.isna().any()].tolist()\n",
    "\n",
    "# Handle NaN values by filling them with the median value of the column\n",
    "for column in nan_columns:\n",
    "    median_value = all_matchup_features_df[column].median()\n",
    "    all_matchup_features_df[column].fillna(median_value, inplace=True)\n",
    "\n",
    "# Verify if all NaN values are handled\n",
    "nan_columns_after = all_matchup_features_df.columns[all_matchup_features_df.isna().any()].tolist()\n",
    "\n",
    "# If there are no NaN values left, we proceed to re-train the model\n",
    "if not nan_columns_after:\n",
    "    # Prepare the features and target variable for the model\n",
    "    X_recent = all_matchup_features_df.drop(columns=['team1', 'team2', 'year', 'target'])  # Features\n",
    "    y_recent = all_matchup_features_df['target']  # Target variable\n",
    "\n",
    "    # Splitting the dataset into training and testing sets\n",
    "    X_train_recent, X_test_recent, y_train_recent, y_test_recent = train_test_split(X_recent, y_recent, test_size=0.2, random_state=42)\n",
    "\n",
    "    # Initialize the Logistic Regression model\n",
    "    model_recent = LogisticRegression(max_iter=1000)\n",
    "\n",
    "    # Train the model on the recent years data\n",
    "    model_recent.fit(X_train_recent, y_train_recent)\n",
    "\n",
    "    # Predict on the test set\n",
    "    y_pred_recent = model_recent.predict(X_test_recent)\n",
    "\n",
    "    # Evaluating the model on the recent years data\n",
    "    accuracy_recent = accuracy_score(y_test_recent, y_pred_recent)\n",
    "    classification_rep_recent = classification_report(y_test_recent, y_pred_recent)\n",
    "\n",
    "    accuracy_recent, classification_rep_recent\n",
    "else:\n",
    "    # Output the columns that still contain NaN values\n",
    "    nan_columns_after\n",
    "\n",
    "    \n",
    "    \n",
    "#It would be nice to pick two teams randomly and predict their outcome? Not sure if thats the goal"
   ]
  },
  {
   "cell_type": "code",
   "execution_count": null,
   "metadata": {},
   "outputs": [],
   "source": [
    "from sklearn import metrics\n",
    "confusion_matrix = metrics.confusion_matrix(y_test_recent, y_pred_recent)\n",
    "\n",
    "cm_display = metrics.ConfusionMatrixDisplay(confusion_matrix = confusion_matrix, display_labels = [False, True])\n",
    "\n",
    "cm_display.plot()\n",
    "plt.show()"
   ]
  },
  {
   "cell_type": "code",
   "execution_count": null,
   "metadata": {
    "colab": {
     "base_uri": "https://localhost:8080/"
    },
    "id": "4mwmOQCV59pj",
    "outputId": "cf4c47fc-e09e-4efc-ae47-eeb37deac315"
   },
   "outputs": [],
   "source": [
    "accuracy_recent"
   ]
  },
  {
   "cell_type": "code",
   "execution_count": null,
   "metadata": {
    "colab": {
     "base_uri": "https://localhost:8080/",
     "height": 52
    },
    "id": "460TgDUG6AAI",
    "outputId": "212f19f1-7019-45dd-bcd7-2c457cacaa2c"
   },
   "outputs": [],
   "source": [
    "classification_rep_recent"
   ]
  }
 ],
 "metadata": {
  "colab": {
   "provenance": []
  },
  "kernelspec": {
   "display_name": "Python 3 (ipykernel)",
   "language": "python",
   "name": "python3"
  },
  "language_info": {
   "codemirror_mode": {
    "name": "ipython",
    "version": 3
   },
   "file_extension": ".py",
   "mimetype": "text/x-python",
   "name": "python",
   "nbconvert_exporter": "python",
   "pygments_lexer": "ipython3",
   "version": "3.9.7"
  }
 },
 "nbformat": 4,
 "nbformat_minor": 1
}
